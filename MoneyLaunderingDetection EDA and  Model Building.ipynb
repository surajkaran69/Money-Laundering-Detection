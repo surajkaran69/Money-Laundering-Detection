{
 "cells": [
  {
   "cell_type": "code",
   "execution_count": 1,
   "id": "07309b41",
   "metadata": {
    "executionInfo": {
     "elapsed": 7,
     "status": "ok",
     "timestamp": 1679844875795,
     "user": {
      "displayName": "Suraj Karan",
      "userId": "09072418936131318276"
     },
     "user_tz": -330
    },
    "id": "07309b41"
   },
   "outputs": [],
   "source": [
    "import pandas as pd\n",
    "import numpy as np\n",
    "import seaborn as sns\n",
    "import matplotlib.pyplot as plt"
   ]
  },
  {
   "cell_type": "code",
   "execution_count": 2,
   "id": "804ef919",
   "metadata": {
    "executionInfo": {
     "elapsed": 695,
     "status": "ok",
     "timestamp": 1679845706075,
     "user": {
      "displayName": "Suraj Karan",
      "userId": "09072418936131318276"
     },
     "user_tz": -330
    },
    "id": "804ef919"
   },
   "outputs": [],
   "source": [
    "df = pd.read_csv('./Money_Laundering_Dataset.csv')"
   ]
  },
  {
   "cell_type": "code",
   "execution_count": 3,
   "id": "045ed019",
   "metadata": {
    "colab": {
     "base_uri": "https://localhost:8080/",
     "height": 288
    },
    "executionInfo": {
     "elapsed": 12,
     "status": "ok",
     "timestamp": 1679845707769,
     "user": {
      "displayName": "Suraj Karan",
      "userId": "09072418936131318276"
     },
     "user_tz": -330
    },
    "id": "045ed019",
    "outputId": "006aefc9-c08a-4a31-d891-3071deed608a"
   },
   "outputs": [
    {
     "data": {
      "text/html": [
       "<div>\n",
       "<style scoped>\n",
       "    .dataframe tbody tr th:only-of-type {\n",
       "        vertical-align: middle;\n",
       "    }\n",
       "\n",
       "    .dataframe tbody tr th {\n",
       "        vertical-align: top;\n",
       "    }\n",
       "\n",
       "    .dataframe thead th {\n",
       "        text-align: right;\n",
       "    }\n",
       "</style>\n",
       "<table border=\"1\" class=\"dataframe\">\n",
       "  <thead>\n",
       "    <tr style=\"text-align: right;\">\n",
       "      <th></th>\n",
       "      <th>Unnamed: 0</th>\n",
       "      <th>step</th>\n",
       "      <th>type</th>\n",
       "      <th>amount</th>\n",
       "      <th>nameOrig</th>\n",
       "      <th>oldbalanceOrg</th>\n",
       "      <th>newbalanceOrig</th>\n",
       "      <th>nameDest</th>\n",
       "      <th>oldbalanceDest</th>\n",
       "      <th>newbalanceDest</th>\n",
       "      <th>isFraud</th>\n",
       "      <th>isFlaggedFraud</th>\n",
       "    </tr>\n",
       "  </thead>\n",
       "  <tbody>\n",
       "    <tr>\n",
       "      <th>0</th>\n",
       "      <td>0.0</td>\n",
       "      <td>1.0</td>\n",
       "      <td>PAYMENT</td>\n",
       "      <td>9839.64</td>\n",
       "      <td>C1231006815</td>\n",
       "      <td>170136.0</td>\n",
       "      <td>160296.36</td>\n",
       "      <td>M1979787155</td>\n",
       "      <td>0.0</td>\n",
       "      <td>0.0</td>\n",
       "      <td>0.0</td>\n",
       "      <td>0.0</td>\n",
       "    </tr>\n",
       "    <tr>\n",
       "      <th>1</th>\n",
       "      <td>1.0</td>\n",
       "      <td>1.0</td>\n",
       "      <td>PAYMENT</td>\n",
       "      <td>1864.28</td>\n",
       "      <td>C1666544295</td>\n",
       "      <td>21249.0</td>\n",
       "      <td>19384.72</td>\n",
       "      <td>M2044282225</td>\n",
       "      <td>0.0</td>\n",
       "      <td>0.0</td>\n",
       "      <td>0.0</td>\n",
       "      <td>0.0</td>\n",
       "    </tr>\n",
       "    <tr>\n",
       "      <th>2</th>\n",
       "      <td>2.0</td>\n",
       "      <td>1.0</td>\n",
       "      <td>TRANSFER</td>\n",
       "      <td>181.00</td>\n",
       "      <td>C1305486145</td>\n",
       "      <td>181.0</td>\n",
       "      <td>0.00</td>\n",
       "      <td>C553264065</td>\n",
       "      <td>0.0</td>\n",
       "      <td>0.0</td>\n",
       "      <td>1.0</td>\n",
       "      <td>0.0</td>\n",
       "    </tr>\n",
       "    <tr>\n",
       "      <th>3</th>\n",
       "      <td>3.0</td>\n",
       "      <td>1.0</td>\n",
       "      <td>CASH_OUT</td>\n",
       "      <td>181.00</td>\n",
       "      <td>C840083671</td>\n",
       "      <td>181.0</td>\n",
       "      <td>0.00</td>\n",
       "      <td>C38997010</td>\n",
       "      <td>21182.0</td>\n",
       "      <td>0.0</td>\n",
       "      <td>1.0</td>\n",
       "      <td>0.0</td>\n",
       "    </tr>\n",
       "    <tr>\n",
       "      <th>4</th>\n",
       "      <td>4.0</td>\n",
       "      <td>1.0</td>\n",
       "      <td>PAYMENT</td>\n",
       "      <td>11668.14</td>\n",
       "      <td>C2048537720</td>\n",
       "      <td>41554.0</td>\n",
       "      <td>29885.86</td>\n",
       "      <td>M1230701703</td>\n",
       "      <td>0.0</td>\n",
       "      <td>0.0</td>\n",
       "      <td>0.0</td>\n",
       "      <td>0.0</td>\n",
       "    </tr>\n",
       "  </tbody>\n",
       "</table>\n",
       "</div>"
      ],
      "text/plain": [
       "   Unnamed: 0  step      type    amount     nameOrig  oldbalanceOrg  \\\n",
       "0         0.0   1.0   PAYMENT   9839.64  C1231006815       170136.0   \n",
       "1         1.0   1.0   PAYMENT   1864.28  C1666544295        21249.0   \n",
       "2         2.0   1.0  TRANSFER    181.00  C1305486145          181.0   \n",
       "3         3.0   1.0  CASH_OUT    181.00   C840083671          181.0   \n",
       "4         4.0   1.0   PAYMENT  11668.14  C2048537720        41554.0   \n",
       "\n",
       "   newbalanceOrig     nameDest  oldbalanceDest  newbalanceDest  isFraud  \\\n",
       "0       160296.36  M1979787155             0.0             0.0      0.0   \n",
       "1        19384.72  M2044282225             0.0             0.0      0.0   \n",
       "2            0.00   C553264065             0.0             0.0      1.0   \n",
       "3            0.00    C38997010         21182.0             0.0      1.0   \n",
       "4        29885.86  M1230701703             0.0             0.0      0.0   \n",
       "\n",
       "   isFlaggedFraud  \n",
       "0             0.0  \n",
       "1             0.0  \n",
       "2             0.0  \n",
       "3             0.0  \n",
       "4             0.0  "
      ]
     },
     "execution_count": 3,
     "metadata": {},
     "output_type": "execute_result"
    }
   ],
   "source": [
    "df.head(5)"
   ]
  },
  {
   "cell_type": "code",
   "execution_count": 4,
   "id": "39ab1812",
   "metadata": {
    "executionInfo": {
     "elapsed": 5,
     "status": "ok",
     "timestamp": 1679845711875,
     "user": {
      "displayName": "Suraj Karan",
      "userId": "09072418936131318276"
     },
     "user_tz": -330
    },
    "id": "39ab1812"
   },
   "outputs": [],
   "source": [
    "df = df.drop('Unnamed: 0',axis=1)\n"
   ]
  },
  {
   "cell_type": "code",
   "execution_count": 5,
   "id": "f5e77c6f",
   "metadata": {
    "colab": {
     "base_uri": "https://localhost:8080/"
    },
    "executionInfo": {
     "elapsed": 8,
     "status": "ok",
     "timestamp": 1679845713822,
     "user": {
      "displayName": "Suraj Karan",
      "userId": "09072418936131318276"
     },
     "user_tz": -330
    },
    "id": "f5e77c6f",
    "outputId": "d8fbed90-ea50-4182-fe50-7bc5ae7b413a"
   },
   "outputs": [
    {
     "data": {
      "text/plain": [
       "0"
      ]
     },
     "execution_count": 5,
     "metadata": {},
     "output_type": "execute_result"
    }
   ],
   "source": [
    "df.duplicated().sum()#didnt found any duplicate values so im proceeding to check null values"
   ]
  },
  {
   "cell_type": "code",
   "execution_count": 6,
   "id": "566e3b33",
   "metadata": {
    "colab": {
     "base_uri": "https://localhost:8080/"
    },
    "executionInfo": {
     "elapsed": 4,
     "status": "ok",
     "timestamp": 1679845716113,
     "user": {
      "displayName": "Suraj Karan",
      "userId": "09072418936131318276"
     },
     "user_tz": -330
    },
    "id": "566e3b33",
    "outputId": "3a1ad641-226a-4689-c51b-b20e44c97fea"
   },
   "outputs": [
    {
     "data": {
      "text/plain": [
       "step              677\n",
       "type                0\n",
       "amount              0\n",
       "nameOrig           10\n",
       "oldbalanceOrg     143\n",
       "newbalanceOrig     22\n",
       "nameDest            4\n",
       "oldbalanceDest     52\n",
       "newbalanceDest      0\n",
       "isFraud           317\n",
       "isFlaggedFraud     71\n",
       "dtype: int64"
      ]
     },
     "execution_count": 6,
     "metadata": {},
     "output_type": "execute_result"
    }
   ],
   "source": [
    "df.isnull().sum() # found null values doing mode imputation "
   ]
  },
  {
   "cell_type": "code",
   "execution_count": 7,
   "id": "dfb1fb15",
   "metadata": {
    "executionInfo": {
     "elapsed": 677,
     "status": "ok",
     "timestamp": 1679845718538,
     "user": {
      "displayName": "Suraj Karan",
      "userId": "09072418936131318276"
     },
     "user_tz": -330
    },
    "id": "dfb1fb15"
   },
   "outputs": [],
   "source": [
    "from sklearn.impute import SimpleImputer"
   ]
  },
  {
   "cell_type": "code",
   "execution_count": 8,
   "id": "a53616c5",
   "metadata": {
    "executionInfo": {
     "elapsed": 421,
     "status": "ok",
     "timestamp": 1679845740441,
     "user": {
      "displayName": "Suraj Karan",
      "userId": "09072418936131318276"
     },
     "user_tz": -330
    },
    "id": "a53616c5"
   },
   "outputs": [],
   "source": [
    "# Mode Imputer\n",
    "mode_imputer = SimpleImputer(missing_values=np.nan, strategy='most_frequent')\n",
    "df[\"step\"] = pd.DataFrame(mode_imputer.fit_transform(df[['step']]))\n",
    "df[\"oldbalanceOrg\"] = pd.DataFrame(mode_imputer.fit_transform(df[['oldbalanceOrg']]))\n",
    "df[\"newbalanceOrig\"] = pd.DataFrame(mode_imputer.fit_transform(df[['newbalanceOrig']]))\n",
    "df[\"oldbalanceDest\"] = pd.DataFrame(mode_imputer.fit_transform(df[['oldbalanceDest']]))\n",
    "df[\"isFraud\"] = pd.DataFrame(mode_imputer.fit_transform(df[['isFraud']]))\n",
    "df[\"isFlaggedFraud\"] = pd.DataFrame(mode_imputer.fit_transform(df[['isFlaggedFraud']]))\n"
   ]
  },
  {
   "cell_type": "code",
   "execution_count": 9,
   "id": "37d21372",
   "metadata": {
    "colab": {
     "base_uri": "https://localhost:8080/"
    },
    "executionInfo": {
     "elapsed": 8,
     "status": "ok",
     "timestamp": 1679845742692,
     "user": {
      "displayName": "Suraj Karan",
      "userId": "09072418936131318276"
     },
     "user_tz": -330
    },
    "id": "37d21372",
    "outputId": "6746f010-d261-4c9a-889d-0f8c9eebbb8b"
   },
   "outputs": [
    {
     "data": {
      "text/plain": [
       "step               0\n",
       "type               0\n",
       "amount             0\n",
       "nameOrig          10\n",
       "oldbalanceOrg      0\n",
       "newbalanceOrig     0\n",
       "nameDest           4\n",
       "oldbalanceDest     0\n",
       "newbalanceDest     0\n",
       "isFraud            0\n",
       "isFlaggedFraud     0\n",
       "dtype: int64"
      ]
     },
     "execution_count": 9,
     "metadata": {},
     "output_type": "execute_result"
    }
   ],
   "source": [
    "df.isnull().sum() "
   ]
  },
  {
   "cell_type": "code",
   "execution_count": 10,
   "id": "124e7026",
   "metadata": {
    "executionInfo": {
     "elapsed": 7,
     "status": "ok",
     "timestamp": 1679845747454,
     "user": {
      "displayName": "Suraj Karan",
      "userId": "09072418936131318276"
     },
     "user_tz": -330
    },
    "id": "124e7026"
   },
   "outputs": [],
   "source": [
    "df = df.drop(['nameOrig','nameDest'],axis = 1)"
   ]
  },
  {
   "cell_type": "code",
   "execution_count": 11,
   "id": "c2cd7ffb",
   "metadata": {
    "colab": {
     "base_uri": "https://localhost:8080/"
    },
    "executionInfo": {
     "elapsed": 4,
     "status": "ok",
     "timestamp": 1679845749078,
     "user": {
      "displayName": "Suraj Karan",
      "userId": "09072418936131318276"
     },
     "user_tz": -330
    },
    "id": "c2cd7ffb",
    "outputId": "8b41b630-c87a-4ae3-af36-9ad688d3427c"
   },
   "outputs": [
    {
     "data": {
      "text/plain": [
       "step              0\n",
       "type              0\n",
       "amount            0\n",
       "oldbalanceOrg     0\n",
       "newbalanceOrig    0\n",
       "oldbalanceDest    0\n",
       "newbalanceDest    0\n",
       "isFraud           0\n",
       "isFlaggedFraud    0\n",
       "dtype: int64"
      ]
     },
     "execution_count": 11,
     "metadata": {},
     "output_type": "execute_result"
    }
   ],
   "source": [
    "df.isnull().sum()"
   ]
  },
  {
   "cell_type": "code",
   "execution_count": 12,
   "id": "a171aa5c",
   "metadata": {
    "executionInfo": {
     "elapsed": 3,
     "status": "ok",
     "timestamp": 1679845751747,
     "user": {
      "displayName": "Suraj Karan",
      "userId": "09072418936131318276"
     },
     "user_tz": -330
    },
    "id": "a171aa5c"
   },
   "outputs": [],
   "source": [
    "from sklearn.preprocessing import LabelEncoder\n",
    "le = LabelEncoder()\n",
    "df['type']=le.fit_transform(df['type'])"
   ]
  },
  {
   "cell_type": "code",
   "execution_count": 13,
   "id": "4fecc94d",
   "metadata": {
    "executionInfo": {
     "elapsed": 397,
     "status": "ok",
     "timestamp": 1679845757981,
     "user": {
      "displayName": "Suraj Karan",
      "userId": "09072418936131318276"
     },
     "user_tz": -330
    },
    "id": "4fecc94d"
   },
   "outputs": [],
   "source": [
    "columns = ['step','type','amount','oldbalanceOrg','newbalanceOrig','oldbalanceDest','newbalanceDest','isFraud','isFlaggedFraud']"
   ]
  },
  {
   "cell_type": "code",
   "execution_count": 14,
   "id": "9f1ad65c",
   "metadata": {
    "colab": {
     "base_uri": "https://localhost:8080/",
     "height": 1000
    },
    "executionInfo": {
     "elapsed": 2845,
     "status": "ok",
     "timestamp": 1679845762847,
     "user": {
      "displayName": "Suraj Karan",
      "userId": "09072418936131318276"
     },
     "user_tz": -330
    },
    "id": "9f1ad65c",
    "outputId": "fb95cc7c-b4ac-498e-c158-4428a804eb85"
   },
   "outputs": [
    {
     "data": {
      "image/png": "[encoded data removed]",
      "text/plain": [
       "<Figure size 640x480 with 1 Axes>"
      ]
     },
     "metadata": {},
     "output_type": "display_data"
    },
    {
     "data": {
      "image/png": "[encoded data removed]",
      "text/plain": [
       "<Figure size 640x480 with 1 Axes>"
      ]
     },
     "metadata": {},
     "output_type": "display_data"
    },
    {
     "data": {
      "image/png": "[encoded data removed]",
      "text/plain": [
       "<Figure size 640x480 with 1 Axes>"
      ]
     },
     "metadata": {},
     "output_type": "display_data"
    },
    {
     "data": {
      "image/png": "[encoded data removed]",
      "text/plain": [
       "<Figure size 640x480 with 1 Axes>"
      ]
     },
     "metadata": {},
     "output_type": "display_data"
    },
    {
     "data": {
      "image/png": "[encoded data removed]",
      "text/plain": [
       "<Figure size 640x480 with 1 Axes>"
      ]
     },
     "metadata": {},
     "output_type": "display_data"
    },
    {
     "data": {
      "image/png": "[encoded data removed]",
      "text/plain": [
       "<Figure size 640x480 with 1 Axes>"
      ]
     },
     "metadata": {},
     "output_type": "display_data"
    },
    {
     "data": {
      "image/png": "[encoded data removed]",
      "text/plain": [
       "<Figure size 640x480 with 1 Axes>"
      ]
     },
     "metadata": {},
     "output_type": "display_data"
    },
    {
     "data": {
      "image/png": "[encoded data removed]",
      "text/plain": [
       "<Figure size 640x480 with 1 Axes>"
      ]
     },
     "metadata": {},
     "output_type": "display_data"
    },
    {
     "data": {
      "image/png": "[encoded data removed]",
      "text/plain": [
       "<Figure size 640x480 with 1 Axes>"
      ]
     },
     "metadata": {},
     "output_type": "display_data"
    }
   ],
   "source": [
    "for c in columns:\n",
    "    plt.figure()\n",
    "    plt.boxplot(df[c])"
   ]
  },
  {
   "cell_type": "code",
   "execution_count": 15,
   "id": "941a71c7",
   "metadata": {
    "colab": {
     "base_uri": "https://localhost:8080/"
    },
    "executionInfo": {
     "elapsed": 6,
     "status": "ok",
     "timestamp": 1679845764330,
     "user": {
      "displayName": "Suraj Karan",
      "userId": "09072418936131318276"
     },
     "user_tz": -330
    },
    "id": "941a71c7",
    "outputId": "a9f0c864-c6dd-455d-b814-534c0e514cac",
    "scrolled": true
   },
   "outputs": [
    {
     "name": "stdout",
     "output_type": "stream",
     "text": [
      "<class 'pandas.core.frame.DataFrame'>\n",
      "RangeIndex: 100000 entries, 0 to 99999\n",
      "Data columns (total 9 columns):\n",
      " #   Column          Non-Null Count   Dtype  \n",
      "---  ------          --------------   -----  \n",
      " 0   step            100000 non-null  float64\n",
      " 1   type            100000 non-null  int32  \n",
      " 2   amount          100000 non-null  float64\n",
      " 3   oldbalanceOrg   100000 non-null  float64\n",
      " 4   newbalanceOrig  100000 non-null  float64\n",
      " 5   oldbalanceDest  100000 non-null  float64\n",
      " 6   newbalanceDest  100000 non-null  float64\n",
      " 7   isFraud         100000 non-null  float64\n",
      " 8   isFlaggedFraud  100000 non-null  float64\n",
      "dtypes: float64(8), int32(1)\n",
      "memory usage: 6.5 MB\n"
     ]
    }
   ],
   "source": [
    "df.info()"
   ]
  },
  {
   "cell_type": "code",
   "execution_count": 16,
   "id": "f46d585a",
   "metadata": {
    "executionInfo": {
     "elapsed": 3,
     "status": "ok",
     "timestamp": 1679845766442,
     "user": {
      "displayName": "Suraj Karan",
      "userId": "09072418936131318276"
     },
     "user_tz": -330
    },
    "id": "f46d585a"
   },
   "outputs": [],
   "source": [
    "#not doing outlier treatment because this is a transactional data dont want to lose money values"
   ]
  },
  {
   "cell_type": "code",
   "execution_count": 17,
   "id": "fc3cd145",
   "metadata": {
    "executionInfo": {
     "elapsed": 4,
     "status": "ok",
     "timestamp": 1679845768202,
     "user": {
      "displayName": "Suraj Karan",
      "userId": "09072418936131318276"
     },
     "user_tz": -330
    },
    "id": "fc3cd145"
   },
   "outputs": [],
   "source": [
    "\n",
    "# doing normalization\n",
    "from sklearn.preprocessing import RobustScaler"
   ]
  },
  {
   "cell_type": "code",
   "execution_count": 18,
   "id": "fd1783c4",
   "metadata": {
    "executionInfo": {
     "elapsed": 2,
     "status": "ok",
     "timestamp": 1679845769601,
     "user": {
      "displayName": "Suraj Karan",
      "userId": "09072418936131318276"
     },
     "user_tz": -330
    },
    "id": "fd1783c4"
   },
   "outputs": [],
   "source": [
    "scaler = RobustScaler()"
   ]
  },
  {
   "cell_type": "code",
   "execution_count": 19,
   "id": "9f828d1e",
   "metadata": {
    "executionInfo": {
     "elapsed": 6,
     "status": "ok",
     "timestamp": 1679845771726,
     "user": {
      "displayName": "Suraj Karan",
      "userId": "09072418936131318276"
     },
     "user_tz": -330
    },
    "id": "9f828d1e"
   },
   "outputs": [],
   "source": [
    "from sklearn.model_selection import train_test_split"
   ]
  },
  {
   "cell_type": "code",
   "execution_count": 20,
   "id": "4b1700a8",
   "metadata": {
    "executionInfo": {
     "elapsed": 7,
     "status": "ok",
     "timestamp": 1679845773630,
     "user": {
      "displayName": "Suraj Karan",
      "userId": "09072418936131318276"
     },
     "user_tz": -330
    },
    "id": "4b1700a8"
   },
   "outputs": [],
   "source": [
    "X = df.drop('isFraud',axis =1)"
   ]
  },
  {
   "cell_type": "code",
   "execution_count": 21,
   "id": "33f7db6b",
   "metadata": {
    "colab": {
     "base_uri": "https://localhost:8080/"
    },
    "executionInfo": {
     "elapsed": 6,
     "status": "ok",
     "timestamp": 1679845775425,
     "user": {
      "displayName": "Suraj Karan",
      "userId": "09072418936131318276"
     },
     "user_tz": -330
    },
    "id": "33f7db6b",
    "outputId": "0bb9b742-ade8-4358-d895-0d1aee388b82"
   },
   "outputs": [
    {
     "name": "stdout",
     "output_type": "stream",
     "text": [
      "<class 'pandas.core.frame.DataFrame'>\n",
      "RangeIndex: 100000 entries, 0 to 99999\n",
      "Data columns (total 8 columns):\n",
      " #   Column          Non-Null Count   Dtype  \n",
      "---  ------          --------------   -----  \n",
      " 0   step            100000 non-null  float64\n",
      " 1   type            100000 non-null  int32  \n",
      " 2   amount          100000 non-null  float64\n",
      " 3   oldbalanceOrg   100000 non-null  float64\n",
      " 4   newbalanceOrig  100000 non-null  float64\n",
      " 5   oldbalanceDest  100000 non-null  float64\n",
      " 6   newbalanceDest  100000 non-null  float64\n",
      " 7   isFlaggedFraud  100000 non-null  float64\n",
      "dtypes: float64(7), int32(1)\n",
      "memory usage: 5.7 MB\n"
     ]
    }
   ],
   "source": [
    "X.info()"
   ]
  },
  {
   "cell_type": "code",
   "execution_count": 22,
   "id": "ce123b16",
   "metadata": {
    "executionInfo": {
     "elapsed": 4,
     "status": "ok",
     "timestamp": 1679845777141,
     "user": {
      "displayName": "Suraj Karan",
      "userId": "09072418936131318276"
     },
     "user_tz": -330
    },
    "id": "ce123b16"
   },
   "outputs": [],
   "source": [
    "y = df['isFraud']"
   ]
  },
  {
   "cell_type": "code",
   "execution_count": 23,
   "id": "0bacc64c",
   "metadata": {
    "executionInfo": {
     "elapsed": 4,
     "status": "ok",
     "timestamp": 1679845780934,
     "user": {
      "displayName": "Suraj Karan",
      "userId": "09072418936131318276"
     },
     "user_tz": -330
    },
    "id": "0bacc64c"
   },
   "outputs": [],
   "source": [
    "X = scaler.fit_transform(X)"
   ]
  },
  {
   "cell_type": "code",
   "execution_count": 24,
   "id": "0a741d78",
   "metadata": {
    "executionInfo": {
     "elapsed": 5,
     "status": "ok",
     "timestamp": 1679845782920,
     "user": {
      "displayName": "Suraj Karan",
      "userId": "09072418936131318276"
     },
     "user_tz": -330
    },
    "id": "0a741d78"
   },
   "outputs": [],
   "source": [
    "X_train, X_test, y_train, y_test = train_test_split(\n",
    "    X, y, test_size=0.33, random_state=42)"
   ]
  },
  {
   "cell_type": "code",
   "execution_count": 25,
   "id": "3af9ccb8",
   "metadata": {
    "colab": {
     "base_uri": "https://localhost:8080/"
    },
    "executionInfo": {
     "elapsed": 4,
     "status": "ok",
     "timestamp": 1679845784890,
     "user": {
      "displayName": "Suraj Karan",
      "userId": "09072418936131318276"
     },
     "user_tz": -330
    },
    "id": "3af9ccb8",
    "outputId": "2cdbf460-de0e-4264-8314-00ff8bccaf1f"
   },
   "outputs": [
    {
     "data": {
      "text/plain": [
       "array([ 0.        ,  0.        ,  0.27380423,  6.24848029,  0.        ,\n",
       "       15.8348807 , 10.40564381,  0.        ])"
      ]
     },
     "execution_count": 25,
     "metadata": {},
     "output_type": "execute_result"
    }
   ],
   "source": [
    "X_train[0]"
   ]
  },
  {
   "cell_type": "code",
   "execution_count": 26,
   "id": "58bbfb8e",
   "metadata": {
    "colab": {
     "base_uri": "https://localhost:8080/"
    },
    "executionInfo": {
     "elapsed": 12085,
     "status": "ok",
     "timestamp": 1679845799503,
     "user": {
      "displayName": "Suraj Karan",
      "userId": "09072418936131318276"
     },
     "user_tz": -330
    },
    "id": "58bbfb8e",
    "outputId": "75e88e2c-1a1a-4c97-ab71-c9cb5c1b49e1"
   },
   "outputs": [
    {
     "name": "stdout",
     "output_type": "stream",
     "text": [
      "Requirement already satisfied: catboost in c:\\users\\suraj\\appdata\\local\\programs\\python\\python310\\lib\\site-packages (1.1.1)\n",
      "Requirement already satisfied: plotly in c:\\users\\suraj\\appdata\\local\\programs\\python\\python310\\lib\\site-packages (from catboost) (5.14.0)\n",
      "Requirement already satisfied: six in c:\\users\\suraj\\appdata\\local\\programs\\python\\python310\\lib\\site-packages (from catboost) (1.16.0)\n",
      "Requirement already satisfied: scipy in c:\\users\\suraj\\appdata\\local\\programs\\python\\python310\\lib\\site-packages (from catboost) (1.10.1)\n",
      "Requirement already satisfied: matplotlib in c:\\users\\suraj\\appdata\\local\\programs\\python\\python310\\lib\\site-packages (from catboost) (3.7.1)\n",
      "Requirement already satisfied: numpy>=1.16.0 in c:\\users\\suraj\\appdata\\local\\programs\\python\\python310\\lib\\site-packages (from catboost) (1.23.5)\n",
      "Requirement already satisfied: pandas>=0.24.0 in c:\\users\\suraj\\appdata\\local\\programs\\python\\python310\\lib\\site-packages (from catboost) (1.5.3)\n",
      "Requirement already satisfied: graphviz in c:\\users\\suraj\\appdata\\local\\programs\\python\\python310\\lib\\site-packages (from catboost) (0.20.1)\n",
      "Requirement already satisfied: python-dateutil>=2.8.1 in c:\\users\\suraj\\appdata\\local\\programs\\python\\python310\\lib\\site-packages (from pandas>=0.24.0->catboost) (2.8.2)\n",
      "Requirement already satisfied: pytz>=2020.1 in c:\\users\\suraj\\appdata\\local\\programs\\python\\python310\\lib\\site-packages (from pandas>=0.24.0->catboost) (2023.3)\n",
      "Requirement already satisfied: kiwisolver>=1.0.1 in c:\\users\\suraj\\appdata\\local\\programs\\python\\python310\\lib\\site-packages (from matplotlib->catboost) (1.4.4)\n",
      "Requirement already satisfied: fonttools>=4.22.0 in c:\\users\\suraj\\appdata\\local\\programs\\python\\python310\\lib\\site-packages (from matplotlib->catboost) (4.39.3)\n",
      "Requirement already satisfied: contourpy>=1.0.1 in c:\\users\\suraj\\appdata\\local\\programs\\python\\python310\\lib\\site-packages (from matplotlib->catboost) (1.0.7)\n",
      "Requirement already satisfied: packaging>=20.0 in c:\\users\\suraj\\appdata\\local\\programs\\python\\python310\\lib\\site-packages (from matplotlib->catboost) (23.0)\n",
      "Requirement already satisfied: cycler>=0.10 in c:\\users\\suraj\\appdata\\local\\programs\\python\\python310\\lib\\site-packages (from matplotlib->catboost) (0.10.0)\n",
      "Requirement already satisfied: pillow>=6.2.0 in c:\\users\\suraj\\appdata\\local\\programs\\python\\python310\\lib\\site-packages (from matplotlib->catboost) (9.4.0)\n",
      "Requirement already satisfied: pyparsing>=2.3.1 in c:\\users\\suraj\\appdata\\local\\programs\\python\\python310\\lib\\site-packages (from matplotlib->catboost) (2.4.7)\n",
      "Requirement already satisfied: tenacity>=6.2.0 in c:\\users\\suraj\\appdata\\local\\programs\\python\\python310\\lib\\site-packages (from plotly->catboost) (8.2.2)\n"
     ]
    }
   ],
   "source": [
    "!pip install catboost\n",
    "from catboost import CatBoostClassifier"
   ]
  },
  {
   "cell_type": "code",
   "execution_count": 27,
   "id": "ba3b3e94",
   "metadata": {
    "executionInfo": {
     "elapsed": 3,
     "status": "ok",
     "timestamp": 1679845805206,
     "user": {
      "displayName": "Suraj Karan",
      "userId": "09072418936131318276"
     },
     "user_tz": -330
    },
    "id": "ba3b3e94"
   },
   "outputs": [],
   "source": [
    "model = CatBoostClassifier(random_state=42, class_weights={0:1, 1:12}, silent=True)"
   ]
  },
  {
   "cell_type": "code",
   "execution_count": 28,
   "id": "6dac32a4",
   "metadata": {
    "colab": {
     "base_uri": "https://localhost:8080/"
    },
    "executionInfo": {
     "elapsed": 38064,
     "status": "ok",
     "timestamp": 1679845845263,
     "user": {
      "displayName": "Suraj Karan",
      "userId": "09072418936131318276"
     },
     "user_tz": -330
    },
    "id": "6dac32a4",
    "outputId": "6690f7c9-c839-4759-b0c3-aeba9f300c60"
   },
   "outputs": [
    {
     "data": {
      "text/plain": [
       "<catboost.core.CatBoostClassifier at 0x1c34ae6ea70>"
      ]
     },
     "execution_count": 28,
     "metadata": {},
     "output_type": "execute_result"
    }
   ],
   "source": [
    "model.fit(X_train,y_train)"
   ]
  },
  {
   "cell_type": "code",
   "execution_count": 29,
   "id": "d76170b6",
   "metadata": {
    "executionInfo": {
     "elapsed": 404,
     "status": "ok",
     "timestamp": 1679845903918,
     "user": {
      "displayName": "Suraj Karan",
      "userId": "09072418936131318276"
     },
     "user_tz": -330
    },
    "id": "d76170b6"
   },
   "outputs": [],
   "source": [
    "y_pred_cat = model.predict(X_test)\n"
   ]
  },
  {
   "cell_type": "code",
   "execution_count": 30,
   "id": "906b7363",
   "metadata": {
    "colab": {
     "base_uri": "https://localhost:8080/"
    },
    "executionInfo": {
     "elapsed": 5,
     "status": "ok",
     "timestamp": 1679845905945,
     "user": {
      "displayName": "Suraj Karan",
      "userId": "09072418936131318276"
     },
     "user_tz": -330
    },
    "id": "906b7363",
    "outputId": "f0b02094-ceac-41e4-9932-6bb3862d0d83"
   },
   "outputs": [
    {
     "name": "stdout",
     "output_type": "stream",
     "text": [
      "Accuracy on testing data =  0.9934545454545455\n"
     ]
    }
   ],
   "source": [
    "print(\"Accuracy on testing data = \",model.score(X_test,y_test))\n"
   ]
  },
  {
   "cell_type": "code",
   "execution_count": 31,
   "id": "5cf0cc37",
   "metadata": {
    "colab": {
     "base_uri": "https://localhost:8080/"
    },
    "executionInfo": {
     "elapsed": 5,
     "status": "ok",
     "timestamp": 1679845907917,
     "user": {
      "displayName": "Suraj Karan",
      "userId": "09072418936131318276"
     },
     "user_tz": -330
    },
    "id": "5cf0cc37",
    "outputId": "41ec1961-2e35-4b88-ad63-d5bb6c996cf7"
   },
   "outputs": [
    {
     "name": "stdout",
     "output_type": "stream",
     "text": [
      "Accuracy on training data =  0.9980597014925373\n"
     ]
    }
   ],
   "source": [
    "print(\"Accuracy on training data = \",model.score(X_train,y_train))\n"
   ]
  },
  {
   "cell_type": "code",
   "execution_count": 32,
   "id": "89ceb772",
   "metadata": {
    "executionInfo": {
     "elapsed": 4,
     "status": "ok",
     "timestamp": 1679845909424,
     "user": {
      "displayName": "Suraj Karan",
      "userId": "09072418936131318276"
     },
     "user_tz": -330
    },
    "id": "89ceb772"
   },
   "outputs": [],
   "source": [
    "from sklearn.linear_model import LogisticRegression"
   ]
  },
  {
   "cell_type": "code",
   "execution_count": 33,
   "id": "68f1a0bb",
   "metadata": {
    "executionInfo": {
     "elapsed": 5,
     "status": "ok",
     "timestamp": 1679845911407,
     "user": {
      "displayName": "Suraj Karan",
      "userId": "09072418936131318276"
     },
     "user_tz": -330
    },
    "id": "68f1a0bb"
   },
   "outputs": [],
   "source": [
    "lr = LogisticRegression()\n"
   ]
  },
  {
   "cell_type": "code",
   "execution_count": 34,
   "id": "1909cace",
   "metadata": {
    "colab": {
     "base_uri": "https://localhost:8080/",
     "height": 75
    },
    "executionInfo": {
     "elapsed": 915,
     "status": "ok",
     "timestamp": 1679845913463,
     "user": {
      "displayName": "Suraj Karan",
      "userId": "09072418936131318276"
     },
     "user_tz": -330
    },
    "id": "1909cace",
    "outputId": "e98855a0-0803-4650-cf3b-6c7e725b50ce"
   },
   "outputs": [
    {
     "data": {
      "text/html": [
       "<style>#sk-container-id-1 {color: black;background-color: white;}#sk-container-id-1 pre{padding: 0;}#sk-container-id-1 div.sk-toggleable {background-color: white;}#sk-container-id-1 label.sk-toggleable__label {cursor: pointer;display: block;width: 100%;margin-bottom: 0;padding: 0.3em;box-sizing: border-box;text-align: center;}#sk-container-id-1 label.sk-toggleable__label-arrow:before {content: \"▸\";float: left;margin-right: 0.25em;color: #696969;}#sk-container-id-1 label.sk-toggleable__label-arrow:hover:before {color: black;}#sk-container-id-1 div.sk-estimator:hover label.sk-toggleable__label-arrow:before {color: black;}#sk-container-id-1 div.sk-toggleable__content {max-height: 0;max-width: 0;overflow: hidden;text-align: left;background-color: #f0f8ff;}#sk-container-id-1 div.sk-toggleable__content pre {margin: 0.2em;color: black;border-radius: 0.25em;background-color: #f0f8ff;}#sk-container-id-1 input.sk-toggleable__control:checked~div.sk-toggleable__content {max-height: 200px;max-width: 100%;overflow: auto;}#sk-container-id-1 input.sk-toggleable__control:checked~label.sk-toggleable__label-arrow:before {content: \"▾\";}#sk-container-id-1 div.sk-estimator input.sk-toggleable__control:checked~label.sk-toggleable__label {background-color: #d4ebff;}#sk-container-id-1 div.sk-label input.sk-toggleable__control:checked~label.sk-toggleable__label {background-color: #d4ebff;}#sk-container-id-1 input.sk-hidden--visually {border: 0;clip: rect(1px 1px 1px 1px);clip: rect(1px, 1px, 1px, 1px);height: 1px;margin: -1px;overflow: hidden;padding: 0;position: absolute;width: 1px;}#sk-container-id-1 div.sk-estimator {font-family: monospace;background-color: #f0f8ff;border: 1px dotted black;border-radius: 0.25em;box-sizing: border-box;margin-bottom: 0.5em;}#sk-container-id-1 div.sk-estimator:hover {background-color: #d4ebff;}#sk-container-id-1 div.sk-parallel-item::after {content: \"\";width: 100%;border-bottom: 1px solid gray;flex-grow: 1;}#sk-container-id-1 div.sk-label:hover label.sk-toggleable__label {background-color: #d4ebff;}#sk-container-id-1 div.sk-serial::before {content: \"\";position: absolute;border-left: 1px solid gray;box-sizing: border-box;top: 0;bottom: 0;left: 50%;z-index: 0;}#sk-container-id-1 div.sk-serial {display: flex;flex-direction: column;align-items: center;background-color: white;padding-right: 0.2em;padding-left: 0.2em;position: relative;}#sk-container-id-1 div.sk-item {position: relative;z-index: 1;}#sk-container-id-1 div.sk-parallel {display: flex;align-items: stretch;justify-content: center;background-color: white;position: relative;}#sk-container-id-1 div.sk-item::before, #sk-container-id-1 div.sk-parallel-item::before {content: \"\";position: absolute;border-left: 1px solid gray;box-sizing: border-box;top: 0;bottom: 0;left: 50%;z-index: -1;}#sk-container-id-1 div.sk-parallel-item {display: flex;flex-direction: column;z-index: 1;position: relative;background-color: white;}#sk-container-id-1 div.sk-parallel-item:first-child::after {align-self: flex-end;width: 50%;}#sk-container-id-1 div.sk-parallel-item:last-child::after {align-self: flex-start;width: 50%;}#sk-container-id-1 div.sk-parallel-item:only-child::after {width: 0;}#sk-container-id-1 div.sk-dashed-wrapped {border: 1px dashed gray;margin: 0 0.4em 0.5em 0.4em;box-sizing: border-box;padding-bottom: 0.4em;background-color: white;}#sk-container-id-1 div.sk-label label {font-family: monospace;font-weight: bold;display: inline-block;line-height: 1.2em;}#sk-container-id-1 div.sk-label-container {text-align: center;}#sk-container-id-1 div.sk-container {/* jupyter's `normalize.less` sets `[hidden] { display: none; }` but bootstrap.min.css set `[hidden] { display: none !important; }` so we also need the `!important` here to be able to override the default hidden behavior on the sphinx rendered scikit-learn.org. See: https://github.com/scikit-learn/scikit-learn/issues/21755 */display: inline-block !important;position: relative;}#sk-container-id-1 div.sk-text-repr-fallback {display: none;}</style><div id=\"sk-container-id-1\" class=\"sk-top-container\"><div class=\"sk-text-repr-fallback\"><pre>LogisticRegression()</pre><b>In a Jupyter environment, please rerun this cell to show the HTML representation or trust the notebook. <br />On GitHub, the HTML representation is unable to render, please try loading this page with nbviewer.org.</b></div><div class=\"sk-container\" hidden><div class=\"sk-item\"><div class=\"sk-estimator sk-toggleable\"><input class=\"sk-toggleable__control sk-hidden--visually\" id=\"sk-estimator-id-1\" type=\"checkbox\" checked><label for=\"sk-estimator-id-1\" class=\"sk-toggleable__label sk-toggleable__label-arrow\">LogisticRegression</label><div class=\"sk-toggleable__content\"><pre>LogisticRegression()</pre></div></div></div></div></div>"
      ],
      "text/plain": [
       "LogisticRegression()"
      ]
     },
     "execution_count": 34,
     "metadata": {},
     "output_type": "execute_result"
    }
   ],
   "source": [
    "lr.fit(X_train,y_train)"
   ]
  },
  {
   "cell_type": "code",
   "execution_count": 35,
   "id": "a6b89c92",
   "metadata": {
    "colab": {
     "base_uri": "https://localhost:8080/"
    },
    "executionInfo": {
     "elapsed": 6,
     "status": "ok",
     "timestamp": 1679845915340,
     "user": {
      "displayName": "Suraj Karan",
      "userId": "09072418936131318276"
     },
     "user_tz": -330
    },
    "id": "a6b89c92",
    "outputId": "8de73897-31d0-46fb-b672-e3a43d339179"
   },
   "outputs": [
    {
     "data": {
      "text/plain": [
       "0.9963333333333333"
      ]
     },
     "execution_count": 35,
     "metadata": {},
     "output_type": "execute_result"
    }
   ],
   "source": [
    "lr.score(X_test,y_test)"
   ]
  },
  {
   "cell_type": "code",
   "execution_count": 36,
   "id": "a83f93fb",
   "metadata": {
    "colab": {
     "base_uri": "https://localhost:8080/"
    },
    "executionInfo": {
     "elapsed": 6,
     "status": "ok",
     "timestamp": 1679845917985,
     "user": {
      "displayName": "Suraj Karan",
      "userId": "09072418936131318276"
     },
     "user_tz": -330
    },
    "id": "a83f93fb",
    "outputId": "ccc894e5-650a-4cd4-c225-76c9af1518e7"
   },
   "outputs": [
    {
     "data": {
      "text/plain": [
       "0.9956417910447761"
      ]
     },
     "execution_count": 36,
     "metadata": {},
     "output_type": "execute_result"
    }
   ],
   "source": [
    "lr.score(X_train,y_train)"
   ]
  },
  {
   "cell_type": "code",
   "execution_count": 37,
   "id": "ee3379dc",
   "metadata": {
    "executionInfo": {
     "elapsed": 4,
     "status": "ok",
     "timestamp": 1679845920179,
     "user": {
      "displayName": "Suraj Karan",
      "userId": "09072418936131318276"
     },
     "user_tz": -330
    },
    "id": "ee3379dc"
   },
   "outputs": [],
   "source": [
    "from xgboost import XGBClassifier\n",
    "xgb_cv = XGBClassifier(n_estimators=100)"
   ]
  },
  {
   "cell_type": "code",
   "execution_count": 38,
   "id": "2601698b",
   "metadata": {
    "colab": {
     "base_uri": "https://localhost:8080/",
     "height": 248
    },
    "executionInfo": {
     "elapsed": 8895,
     "status": "ok",
     "timestamp": 1679845930897,
     "user": {
      "displayName": "Suraj Karan",
      "userId": "09072418936131318276"
     },
     "user_tz": -330
    },
    "id": "2601698b",
    "outputId": "08c66de7-cc19-42e0-9c18-a656394c9fe4"
   },
   "outputs": [
    {
     "data": {
      "text/html": [
       "<style>#sk-container-id-2 {color: black;background-color: white;}#sk-container-id-2 pre{padding: 0;}#sk-container-id-2 div.sk-toggleable {background-color: white;}#sk-container-id-2 label.sk-toggleable__label {cursor: pointer;display: block;width: 100%;margin-bottom: 0;padding: 0.3em;box-sizing: border-box;text-align: center;}#sk-container-id-2 label.sk-toggleable__label-arrow:before {content: \"▸\";float: left;margin-right: 0.25em;color: #696969;}#sk-container-id-2 label.sk-toggleable__label-arrow:hover:before {color: black;}#sk-container-id-2 div.sk-estimator:hover label.sk-toggleable__label-arrow:before {color: black;}#sk-container-id-2 div.sk-toggleable__content {max-height: 0;max-width: 0;overflow: hidden;text-align: left;background-color: #f0f8ff;}#sk-container-id-2 div.sk-toggleable__content pre {margin: 0.2em;color: black;border-radius: 0.25em;background-color: #f0f8ff;}#sk-container-id-2 input.sk-toggleable__control:checked~div.sk-toggleable__content {max-height: 200px;max-width: 100%;overflow: auto;}#sk-container-id-2 input.sk-toggleable__control:checked~label.sk-toggleable__label-arrow:before {content: \"▾\";}#sk-container-id-2 div.sk-estimator input.sk-toggleable__control:checked~label.sk-toggleable__label {background-color: #d4ebff;}#sk-container-id-2 div.sk-label input.sk-toggleable__control:checked~label.sk-toggleable__label {background-color: #d4ebff;}#sk-container-id-2 input.sk-hidden--visually {border: 0;clip: rect(1px 1px 1px 1px);clip: rect(1px, 1px, 1px, 1px);height: 1px;margin: -1px;overflow: hidden;padding: 0;position: absolute;width: 1px;}#sk-container-id-2 div.sk-estimator {font-family: monospace;background-color: #f0f8ff;border: 1px dotted black;border-radius: 0.25em;box-sizing: border-box;margin-bottom: 0.5em;}#sk-container-id-2 div.sk-estimator:hover {background-color: #d4ebff;}#sk-container-id-2 div.sk-parallel-item::after {content: \"\";width: 100%;border-bottom: 1px solid gray;flex-grow: 1;}#sk-container-id-2 div.sk-label:hover label.sk-toggleable__label {background-color: #d4ebff;}#sk-container-id-2 div.sk-serial::before {content: \"\";position: absolute;border-left: 1px solid gray;box-sizing: border-box;top: 0;bottom: 0;left: 50%;z-index: 0;}#sk-container-id-2 div.sk-serial {display: flex;flex-direction: column;align-items: center;background-color: white;padding-right: 0.2em;padding-left: 0.2em;position: relative;}#sk-container-id-2 div.sk-item {position: relative;z-index: 1;}#sk-container-id-2 div.sk-parallel {display: flex;align-items: stretch;justify-content: center;background-color: white;position: relative;}#sk-container-id-2 div.sk-item::before, #sk-container-id-2 div.sk-parallel-item::before {content: \"\";position: absolute;border-left: 1px solid gray;box-sizing: border-box;top: 0;bottom: 0;left: 50%;z-index: -1;}#sk-container-id-2 div.sk-parallel-item {display: flex;flex-direction: column;z-index: 1;position: relative;background-color: white;}#sk-container-id-2 div.sk-parallel-item:first-child::after {align-self: flex-end;width: 50%;}#sk-container-id-2 div.sk-parallel-item:last-child::after {align-self: flex-start;width: 50%;}#sk-container-id-2 div.sk-parallel-item:only-child::after {width: 0;}#sk-container-id-2 div.sk-dashed-wrapped {border: 1px dashed gray;margin: 0 0.4em 0.5em 0.4em;box-sizing: border-box;padding-bottom: 0.4em;background-color: white;}#sk-container-id-2 div.sk-label label {font-family: monospace;font-weight: bold;display: inline-block;line-height: 1.2em;}#sk-container-id-2 div.sk-label-container {text-align: center;}#sk-container-id-2 div.sk-container {/* jupyter's `normalize.less` sets `[hidden] { display: none; }` but bootstrap.min.css set `[hidden] { display: none !important; }` so we also need the `!important` here to be able to override the default hidden behavior on the sphinx rendered scikit-learn.org. See: https://github.com/scikit-learn/scikit-learn/issues/21755 */display: inline-block !important;position: relative;}#sk-container-id-2 div.sk-text-repr-fallback {display: none;}</style><div id=\"sk-container-id-2\" class=\"sk-top-container\"><div class=\"sk-text-repr-fallback\"><pre>XGBClassifier(base_score=None, booster=None, callbacks=None,\n",
       "              colsample_bylevel=None, colsample_bynode=None,\n",
       "              colsample_bytree=None, early_stopping_rounds=None,\n",
       "              enable_categorical=False, eval_metric=None, feature_types=None,\n",
       "              gamma=None, gpu_id=None, grow_policy=None, importance_type=None,\n",
       "              interaction_constraints=None, learning_rate=None, max_bin=None,\n",
       "              max_cat_threshold=None, max_cat_to_onehot=None,\n",
       "              max_delta_step=None, max_depth=None, max_leaves=None,\n",
       "              min_child_weight=None, missing=nan, monotone_constraints=None,\n",
       "              n_estimators=100, n_jobs=None, num_parallel_tree=None,\n",
       "              predictor=None, random_state=None, ...)</pre><b>In a Jupyter environment, please rerun this cell to show the HTML representation or trust the notebook. <br />On GitHub, the HTML representation is unable to render, please try loading this page with nbviewer.org.</b></div><div class=\"sk-container\" hidden><div class=\"sk-item\"><div class=\"sk-estimator sk-toggleable\"><input class=\"sk-toggleable__control sk-hidden--visually\" id=\"sk-estimator-id-2\" type=\"checkbox\" checked><label for=\"sk-estimator-id-2\" class=\"sk-toggleable__label sk-toggleable__label-arrow\">XGBClassifier</label><div class=\"sk-toggleable__content\"><pre>XGBClassifier(base_score=None, booster=None, callbacks=None,\n",
       "              colsample_bylevel=None, colsample_bynode=None,\n",
       "              colsample_bytree=None, early_stopping_rounds=None,\n",
       "              enable_categorical=False, eval_metric=None, feature_types=None,\n",
       "              gamma=None, gpu_id=None, grow_policy=None, importance_type=None,\n",
       "              interaction_constraints=None, learning_rate=None, max_bin=None,\n",
       "              max_cat_threshold=None, max_cat_to_onehot=None,\n",
       "              max_delta_step=None, max_depth=None, max_leaves=None,\n",
       "              min_child_weight=None, missing=nan, monotone_constraints=None,\n",
       "              n_estimators=100, n_jobs=None, num_parallel_tree=None,\n",
       "              predictor=None, random_state=None, ...)</pre></div></div></div></div></div>"
      ],
      "text/plain": [
       "XGBClassifier(base_score=None, booster=None, callbacks=None,\n",
       "              colsample_bylevel=None, colsample_bynode=None,\n",
       "              colsample_bytree=None, early_stopping_rounds=None,\n",
       "              enable_categorical=False, eval_metric=None, feature_types=None,\n",
       "              gamma=None, gpu_id=None, grow_policy=None, importance_type=None,\n",
       "              interaction_constraints=None, learning_rate=None, max_bin=None,\n",
       "              max_cat_threshold=None, max_cat_to_onehot=None,\n",
       "              max_delta_step=None, max_depth=None, max_leaves=None,\n",
       "              min_child_weight=None, missing=nan, monotone_constraints=None,\n",
       "              n_estimators=100, n_jobs=None, num_parallel_tree=None,\n",
       "              predictor=None, random_state=None, ...)"
      ]
     },
     "execution_count": 38,
     "metadata": {},
     "output_type": "execute_result"
    }
   ],
   "source": [
    "xgb_cv.fit(X_train,y_train)\n"
   ]
  },
  {
   "cell_type": "code",
   "execution_count": 39,
   "id": "8d32adf5",
   "metadata": {
    "colab": {
     "base_uri": "https://localhost:8080/"
    },
    "executionInfo": {
     "elapsed": 977,
     "status": "ok",
     "timestamp": 1679845934527,
     "user": {
      "displayName": "Suraj Karan",
      "userId": "09072418936131318276"
     },
     "user_tz": -330
    },
    "id": "8d32adf5",
    "outputId": "17654a4a-04e9-40bc-c9ae-9ee67a668515"
   },
   "outputs": [
    {
     "data": {
      "text/plain": [
       "0.9965757575757576"
      ]
     },
     "execution_count": 39,
     "metadata": {},
     "output_type": "execute_result"
    }
   ],
   "source": [
    "xgb_cv.score(X_test,y_test)"
   ]
  },
  {
   "cell_type": "code",
   "execution_count": 40,
   "id": "3416e860",
   "metadata": {
    "colab": {
     "base_uri": "https://localhost:8080/"
    },
    "executionInfo": {
     "elapsed": 4,
     "status": "ok",
     "timestamp": 1679845934899,
     "user": {
      "displayName": "Suraj Karan",
      "userId": "09072418936131318276"
     },
     "user_tz": -330
    },
    "id": "3416e860",
    "outputId": "7056b250-2c29-41e8-bfad-7d0f3b66143f"
   },
   "outputs": [
    {
     "data": {
      "text/plain": [
       "0.9980597014925373"
      ]
     },
     "execution_count": 40,
     "metadata": {},
     "output_type": "execute_result"
    }
   ],
   "source": [
    "xgb_cv.score(X_train,y_train)"
   ]
  },
  {
   "cell_type": "code",
   "execution_count": 41,
   "id": "2050f563",
   "metadata": {
    "executionInfo": {
     "elapsed": 3480,
     "status": "ok",
     "timestamp": 1679845940827,
     "user": {
      "displayName": "Suraj Karan",
      "userId": "09072418936131318276"
     },
     "user_tz": -330
    },
    "id": "2050f563"
   },
   "outputs": [],
   "source": [
    "from tensorflow.keras.models import Sequential\n",
    "from tensorflow.keras.layers import Dense\n",
    "from tensorflow.keras.layers import ReLU\n"
   ]
  },
  {
   "cell_type": "code",
   "execution_count": 42,
   "id": "646PK1LwN_Ab",
   "metadata": {
    "executionInfo": {
     "elapsed": 3,
     "status": "ok",
     "timestamp": 1679845942959,
     "user": {
      "displayName": "Suraj Karan",
      "userId": "09072418936131318276"
     },
     "user_tz": -330
    },
    "id": "646PK1LwN_Ab"
   },
   "outputs": [],
   "source": [
    "from tensorflow.keras.layers import Dropout"
   ]
  },
  {
   "cell_type": "code",
   "execution_count": 43,
   "id": "8xM3dx75PbGc",
   "metadata": {
    "colab": {
     "base_uri": "https://localhost:8080/"
    },
    "executionInfo": {
     "elapsed": 5,
     "status": "ok",
     "timestamp": 1679845943385,
     "user": {
      "displayName": "Suraj Karan",
      "userId": "09072418936131318276"
     },
     "user_tz": -330
    },
    "id": "8xM3dx75PbGc",
    "outputId": "02bc4cbd-ddc6-4a3b-90fd-9265da7abe20"
   },
   "outputs": [
    {
     "data": {
      "text/plain": [
       "(67000, 8)"
      ]
     },
     "execution_count": 43,
     "metadata": {},
     "output_type": "execute_result"
    }
   ],
   "source": [
    "X_train.shape"
   ]
  },
  {
   "cell_type": "code",
   "execution_count": 44,
   "id": "jdLdMTAiPeiH",
   "metadata": {
    "executionInfo": {
     "elapsed": 4,
     "status": "ok",
     "timestamp": 1679845943386,
     "user": {
      "displayName": "Suraj Karan",
      "userId": "09072418936131318276"
     },
     "user_tz": -330
    },
    "id": "jdLdMTAiPeiH"
   },
   "outputs": [],
   "source": [
    "classifier = Sequential()\n",
    "classifier.add(Dense(units=8, activation = 'relu'))"
   ]
  },
  {
   "cell_type": "code",
   "execution_count": 45,
   "id": "G9_PHeibQcwp",
   "metadata": {
    "executionInfo": {
     "elapsed": 4,
     "status": "ok",
     "timestamp": 1679845945149,
     "user": {
      "displayName": "Suraj Karan",
      "userId": "09072418936131318276"
     },
     "user_tz": -330
    },
    "id": "G9_PHeibQcwp"
   },
   "outputs": [],
   "source": [
    "#hidden layers\n",
    "classifier.add(Dense(units=5,activation='relu'))\n",
    "classifier.add(Dense(units=3,activation='relu'))\n"
   ]
  },
  {
   "cell_type": "code",
   "execution_count": 46,
   "id": "G_heBipBQrq_",
   "metadata": {
    "executionInfo": {
     "elapsed": 4,
     "status": "ok",
     "timestamp": 1679845947165,
     "user": {
      "displayName": "Suraj Karan",
      "userId": "09072418936131318276"
     },
     "user_tz": -330
    },
    "id": "G_heBipBQrq_"
   },
   "outputs": [],
   "source": [
    "#outputlayer\n",
    "classifier.add(Dense(1,activation='sigmoid'))"
   ]
  },
  {
   "cell_type": "code",
   "execution_count": 47,
   "id": "aEMyyg16RF1V",
   "metadata": {
    "executionInfo": {
     "elapsed": 3,
     "status": "ok",
     "timestamp": 1679845948662,
     "user": {
      "displayName": "Suraj Karan",
      "userId": "09072418936131318276"
     },
     "user_tz": -330
    },
    "id": "aEMyyg16RF1V"
   },
   "outputs": [],
   "source": [
    "classifier.compile(optimizer='adam',loss='binary_crossentropy',metrics = ['accuracy'])"
   ]
  },
  {
   "cell_type": "code",
   "execution_count": 48,
   "id": "BVoDKZQoRYOg",
   "metadata": {
    "colab": {
     "base_uri": "https://localhost:8080/"
    },
    "executionInfo": {
     "elapsed": 54999,
     "status": "ok",
     "timestamp": 1679846310588,
     "user": {
      "displayName": "Suraj Karan",
      "userId": "09072418936131318276"
     },
     "user_tz": -330
    },
    "id": "BVoDKZQoRYOg",
    "outputId": "c8db6c5d-1ae4-4bc5-e33c-6d0dec5c6580"
   },
   "outputs": [
    {
     "name": "stdout",
     "output_type": "stream",
     "text": [
      "Epoch 1/12\n",
      "2094/2094 [==============================] - 3s 1ms/step - loss: 0.0670 - accuracy: 0.9956\n",
      "Epoch 2/12\n",
      "2094/2094 [==============================] - 2s 873us/step - loss: 0.0228 - accuracy: 0.9956\n",
      "Epoch 3/12\n",
      "2094/2094 [==============================] - 2s 856us/step - loss: 0.0218 - accuracy: 0.9956\n",
      "Epoch 4/12\n",
      "2094/2094 [==============================] - 2s 768us/step - loss: 0.0215 - accuracy: 0.9956\n",
      "Epoch 5/12\n",
      "2094/2094 [==============================] - 2s 841us/step - loss: 0.0212 - accuracy: 0.9956\n",
      "Epoch 6/12\n",
      "2094/2094 [==============================] - 2s 946us/step - loss: 0.0212 - accuracy: 0.9956\n",
      "Epoch 7/12\n",
      "2094/2094 [==============================] - 2s 773us/step - loss: 0.0211 - accuracy: 0.9956\n",
      "Epoch 8/12\n",
      "2094/2094 [==============================] - 2s 876us/step - loss: 0.0211 - accuracy: 0.9956\n",
      "Epoch 9/12\n",
      "2094/2094 [==============================] - 2s 837us/step - loss: 0.0209 - accuracy: 0.9956\n",
      "Epoch 10/12\n",
      "2094/2094 [==============================] - 2s 731us/step - loss: 0.0210 - accuracy: 0.9956\n",
      "Epoch 11/12\n",
      "2094/2094 [==============================] - 2s 720us/step - loss: 0.0208 - accuracy: 0.9956\n",
      "Epoch 12/12\n",
      "2094/2094 [==============================] - 2s 750us/step - loss: 0.0208 - accuracy: 0.9956\n"
     ]
    }
   ],
   "source": [
    "mod = classifier.fit(X_train,y_train,epochs=12)"
   ]
  },
  {
   "cell_type": "code",
   "execution_count": 49,
   "id": "66jfnhRsRpUB",
   "metadata": {
    "colab": {
     "base_uri": "https://localhost:8080/"
    },
    "executionInfo": {
     "elapsed": 3769,
     "status": "ok",
     "timestamp": 1679846497250,
     "user": {
      "displayName": "Suraj Karan",
      "userId": "09072418936131318276"
     },
     "user_tz": -330
    },
    "id": "66jfnhRsRpUB",
    "outputId": "14627d4d-f829-4cf9-f2ae-a79db120ff11"
   },
   "outputs": [
    {
     "name": "stdout",
     "output_type": "stream",
     "text": [
      "1032/1032 [==============================] - 1s 486us/step\n"
     ]
    }
   ],
   "source": [
    "y_pred=classifier.predict(X_test)"
   ]
  },
  {
   "cell_type": "code",
   "execution_count": 50,
   "id": "S1ejSsEuR-yN",
   "metadata": {
    "colab": {
     "base_uri": "https://localhost:8080/"
    },
    "executionInfo": {
     "elapsed": 6,
     "status": "ok",
     "timestamp": 1679846499095,
     "user": {
      "displayName": "Suraj Karan",
      "userId": "09072418936131318276"
     },
     "user_tz": -330
    },
    "id": "S1ejSsEuR-yN",
    "outputId": "fbffef2d-25da-4748-c133-2d2651bd6ae7"
   },
   "outputs": [
    {
     "data": {
      "text/plain": [
       "array([[0.00013768],\n",
       "       [0.00107846],\n",
       "       [0.0020575 ],\n",
       "       ...,\n",
       "       [0.00287192],\n",
       "       [0.0014677 ],\n",
       "       [0.00082491]], dtype=float32)"
      ]
     },
     "execution_count": 50,
     "metadata": {},
     "output_type": "execute_result"
    }
   ],
   "source": [
    "y_pred"
   ]
  },
  {
   "cell_type": "code",
   "execution_count": 51,
   "id": "D33rafhUSH-9",
   "metadata": {
    "colab": {
     "base_uri": "https://localhost:8080/"
    },
    "executionInfo": {
     "elapsed": 2391,
     "status": "ok",
     "timestamp": 1679846545596,
     "user": {
      "displayName": "Suraj Karan",
      "userId": "09072418936131318276"
     },
     "user_tz": -330
    },
    "id": "D33rafhUSH-9",
    "outputId": "c6fc8343-42c9-46d5-ff16-0314e7f642b0"
   },
   "outputs": [
    {
     "name": "stdout",
     "output_type": "stream",
     "text": [
      "1032/1032 [==============================] - 1s 557us/step - loss: 0.0181 - accuracy: 0.9963\n"
     ]
    },
    {
     "data": {
      "text/plain": [
       "[0.018091149628162384, 0.9963333606719971]"
      ]
     },
     "execution_count": 51,
     "metadata": {},
     "output_type": "execute_result"
    }
   ],
   "source": [
    "classifier.evaluate(X_test,y_test)"
   ]
  },
  {
   "cell_type": "code",
   "execution_count": 52,
   "id": "KNWmuX6eqAVj",
   "metadata": {
    "executionInfo": {
     "elapsed": 1662,
     "status": "ok",
     "timestamp": 1679846576000,
     "user": {
      "displayName": "Suraj Karan",
      "userId": "09072418936131318276"
     },
     "user_tz": -330
    },
    "id": "KNWmuX6eqAVj"
   },
   "outputs": [],
   "source": [
    "from sklearn.tree import DecisionTreeClassifier\n",
    "dtc = DecisionTreeClassifier()\n",
    "dtc.fit(X_train, y_train)\n",
    "y_pred = dtc.predict(X_test)"
   ]
  },
  {
   "cell_type": "code",
   "execution_count": 53,
   "id": "rdwpX2aXqINV",
   "metadata": {
    "colab": {
     "base_uri": "https://localhost:8080/"
    },
    "executionInfo": {
     "elapsed": 4,
     "status": "ok",
     "timestamp": 1679846588076,
     "user": {
      "displayName": "Suraj Karan",
      "userId": "09072418936131318276"
     },
     "user_tz": -330
    },
    "id": "rdwpX2aXqINV",
    "outputId": "f1bb6ff2-d4d3-4f25-d817-841d37841000"
   },
   "outputs": [
    {
     "data": {
      "text/plain": [
       "0.9933333333333333"
      ]
     },
     "execution_count": 53,
     "metadata": {},
     "output_type": "execute_result"
    }
   ],
   "source": [
    "dtc.score(X_test,y_test)"
   ]
  },
  {
   "cell_type": "code",
   "execution_count": 54,
   "id": "_bYPuDMwqLh4",
   "metadata": {
    "colab": {
     "base_uri": "https://localhost:8080/"
    },
    "executionInfo": {
     "elapsed": 3,
     "status": "ok",
     "timestamp": 1679846601176,
     "user": {
      "displayName": "Suraj Karan",
      "userId": "09072418936131318276"
     },
     "user_tz": -330
    },
    "id": "_bYPuDMwqLh4",
    "outputId": "1d490452-2bfb-497e-dc58-eb0f2339cc12"
   },
   "outputs": [
    {
     "data": {
      "text/plain": [
       "1.0"
      ]
     },
     "execution_count": 54,
     "metadata": {},
     "output_type": "execute_result"
    }
   ],
   "source": [
    "dtc.score(X_train,y_train)"
   ]
  },
  {
   "cell_type": "code",
   "execution_count": 55,
   "id": "41mWiYH1qOwC",
   "metadata": {
    "executionInfo": {
     "elapsed": 14583,
     "status": "ok",
     "timestamp": 1679846634396,
     "user": {
      "displayName": "Suraj Karan",
      "userId": "09072418936131318276"
     },
     "user_tz": -330
    },
    "id": "41mWiYH1qOwC"
   },
   "outputs": [],
   "source": [
    "from sklearn.ensemble import RandomForestClassifier\n",
    "rfc = RandomForestClassifier()\n",
    "rfc.fit(X_train, y_train)\n",
    "y_pred = rfc.predict(X_test)"
   ]
  },
  {
   "cell_type": "code",
   "execution_count": 56,
   "id": "miMwuCbyqTOA",
   "metadata": {
    "colab": {
     "base_uri": "https://localhost:8080/"
    },
    "executionInfo": {
     "elapsed": 841,
     "status": "ok",
     "timestamp": 1679846641064,
     "user": {
      "displayName": "Suraj Karan",
      "userId": "09072418936131318276"
     },
     "user_tz": -330
    },
    "id": "miMwuCbyqTOA",
    "outputId": "2cc8298c-7f0c-4fdf-d299-99cb698e5ad6"
   },
   "outputs": [
    {
     "data": {
      "text/plain": [
       "0.9962424242424243"
      ]
     },
     "execution_count": 56,
     "metadata": {},
     "output_type": "execute_result"
    }
   ],
   "source": [
    "rfc.score(X_test,y_test)"
   ]
  },
  {
   "cell_type": "code",
   "execution_count": 57,
   "id": "osSw95qoqXdD",
   "metadata": {
    "colab": {
     "base_uri": "https://localhost:8080/"
    },
    "executionInfo": {
     "elapsed": 1652,
     "status": "ok",
     "timestamp": 1679846656174,
     "user": {
      "displayName": "Suraj Karan",
      "userId": "09072418936131318276"
     },
     "user_tz": -330
    },
    "id": "osSw95qoqXdD",
    "outputId": "0d199538-b414-435e-fcea-deb588f85732"
   },
   "outputs": [
    {
     "data": {
      "text/plain": [
       "1.0"
      ]
     },
     "execution_count": 57,
     "metadata": {},
     "output_type": "execute_result"
    }
   ],
   "source": [
    "rfc.score(X_train,y_train)"
   ]
  },
  {
   "cell_type": "code",
   "execution_count": 58,
   "id": "Au18z4zZqbw_",
   "metadata": {
    "executionInfo": {
     "elapsed": 5193,
     "status": "ok",
     "timestamp": 1679846677075,
     "user": {
      "displayName": "Suraj Karan",
      "userId": "09072418936131318276"
     },
     "user_tz": -330
    },
    "id": "Au18z4zZqbw_"
   },
   "outputs": [],
   "source": [
    "from sklearn.svm import SVC\n",
    "svc = SVC()\n",
    "svc.fit(X_train, y_train)\n",
    "y_pred = svc.predict(X_test)"
   ]
  },
  {
   "cell_type": "code",
   "execution_count": 59,
   "id": "i52yB3e1qfiy",
   "metadata": {
    "colab": {
     "base_uri": "https://localhost:8080/"
    },
    "executionInfo": {
     "elapsed": 3797,
     "status": "ok",
     "timestamp": 1679846693542,
     "user": {
      "displayName": "Suraj Karan",
      "userId": "09072418936131318276"
     },
     "user_tz": -330
    },
    "id": "i52yB3e1qfiy",
    "outputId": "19465f7c-8096-4f4d-a3b2-d99e1a956f4f"
   },
   "outputs": [
    {
     "data": {
      "text/plain": [
       "0.9963333333333333"
      ]
     },
     "execution_count": 59,
     "metadata": {},
     "output_type": "execute_result"
    }
   ],
   "source": [
    "svc.score(X_test,y_test)"
   ]
  },
  {
   "cell_type": "code",
   "execution_count": 60,
   "id": "FYfow34PqkNU",
   "metadata": {
    "colab": {
     "base_uri": "https://localhost:8080/"
    },
    "executionInfo": {
     "elapsed": 5125,
     "status": "ok",
     "timestamp": 1679846704776,
     "user": {
      "displayName": "Suraj Karan",
      "userId": "09072418936131318276"
     },
     "user_tz": -330
    },
    "id": "FYfow34PqkNU",
    "outputId": "8490f00e-5d95-4c9e-b689-45b431500e77"
   },
   "outputs": [
    {
     "data": {
      "text/plain": [
       "0.9956417910447761"
      ]
     },
     "execution_count": 60,
     "metadata": {},
     "output_type": "execute_result"
    }
   ],
   "source": [
    "svc.score(X_train,y_train)"
   ]
  },
  {
   "cell_type": "code",
   "execution_count": 61,
   "id": "I4vbc0tbqmoa",
   "metadata": {
    "executionInfo": {
     "elapsed": 6671,
     "status": "ok",
     "timestamp": 1679846726770,
     "user": {
      "displayName": "Suraj Karan",
      "userId": "09072418936131318276"
     },
     "user_tz": -330
    },
    "id": "I4vbc0tbqmoa"
   },
   "outputs": [],
   "source": [
    "from sklearn.neighbors import KNeighborsClassifier\n",
    "knn = KNeighborsClassifier()\n",
    "knn.fit(X_train, y_train)\n",
    "y_pred = knn.predict(X_test)"
   ]
  },
  {
   "cell_type": "code",
   "execution_count": 62,
   "id": "dhyzx4B6qr3z",
   "metadata": {
    "colab": {
     "base_uri": "https://localhost:8080/"
    },
    "executionInfo": {
     "elapsed": 6340,
     "status": "ok",
     "timestamp": 1679846745467,
     "user": {
      "displayName": "Suraj Karan",
      "userId": "09072418936131318276"
     },
     "user_tz": -330
    },
    "id": "dhyzx4B6qr3z",
    "outputId": "cfce78b6-1687-4ec7-9ca5-87dbd3d8d4ce"
   },
   "outputs": [
    {
     "data": {
      "text/plain": [
       "0.9959090909090909"
      ]
     },
     "execution_count": 62,
     "metadata": {},
     "output_type": "execute_result"
    }
   ],
   "source": [
    "knn.score(X_test,y_test)"
   ]
  },
  {
   "cell_type": "code",
   "execution_count": 63,
   "id": "Xewt05Iaqwm1",
   "metadata": {
    "colab": {
     "base_uri": "https://localhost:8080/"
    },
    "executionInfo": {
     "elapsed": 7186,
     "status": "ok",
     "timestamp": 1679846756106,
     "user": {
      "displayName": "Suraj Karan",
      "userId": "09072418936131318276"
     },
     "user_tz": -330
    },
    "id": "Xewt05Iaqwm1",
    "outputId": "19ea6042-3ef5-4dcd-8235-4fc5366839db"
   },
   "outputs": [
    {
     "data": {
      "text/plain": [
       "0.9958358208955224"
      ]
     },
     "execution_count": 63,
     "metadata": {},
     "output_type": "execute_result"
    }
   ],
   "source": [
    "knn.score(X_train,y_train)"
   ]
  },
  {
   "cell_type": "code",
   "execution_count": 64,
   "id": "0hvW8mkJqyn5",
   "metadata": {
    "executionInfo": {
     "elapsed": 378,
     "status": "ok",
     "timestamp": 1679846759354,
     "user": {
      "displayName": "Suraj Karan",
      "userId": "09072418936131318276"
     },
     "user_tz": -330
    },
    "id": "0hvW8mkJqyn5"
   },
   "outputs": [],
   "source": [
    "from sklearn.naive_bayes import GaussianNB\n",
    "gnb = GaussianNB()\n",
    "gnb.fit(X_train, y_train)\n",
    "y_pred = gnb.predict(X_test)"
   ]
  },
  {
   "cell_type": "code",
   "execution_count": 65,
   "id": "yclUJLzzq1U7",
   "metadata": {
    "colab": {
     "base_uri": "https://localhost:8080/"
    },
    "executionInfo": {
     "elapsed": 5,
     "status": "ok",
     "timestamp": 1679846787631,
     "user": {
      "displayName": "Suraj Karan",
      "userId": "09072418936131318276"
     },
     "user_tz": -330
    },
    "id": "yclUJLzzq1U7",
    "outputId": "884d2021-9667-479f-93bd-19a8fffc0cef"
   },
   "outputs": [
    {
     "data": {
      "text/plain": [
       "0.9381818181818182"
      ]
     },
     "execution_count": 65,
     "metadata": {},
     "output_type": "execute_result"
    }
   ],
   "source": [
    "gnb.score(X_test,y_test)"
   ]
  },
  {
   "cell_type": "code",
   "execution_count": 66,
   "id": "KYAAQIk5q8QN",
   "metadata": {
    "colab": {
     "base_uri": "https://localhost:8080/"
    },
    "executionInfo": {
     "elapsed": 474,
     "status": "ok",
     "timestamp": 1679846801501,
     "user": {
      "displayName": "Suraj Karan",
      "userId": "09072418936131318276"
     },
     "user_tz": -330
    },
    "id": "KYAAQIk5q8QN",
    "outputId": "95de5580-fde0-4828-ddfb-c846b9b3b29c"
   },
   "outputs": [
    {
     "data": {
      "text/plain": [
       "0.9384925373134329"
      ]
     },
     "execution_count": 66,
     "metadata": {},
     "output_type": "execute_result"
    }
   ],
   "source": [
    "gnb.score(X_train,y_train)"
   ]
  },
  {
   "cell_type": "code",
   "execution_count": 67,
   "id": "OOIUJJ8eq_cB",
   "metadata": {
    "id": "OOIUJJ8eq_cB"
   },
   "outputs": [],
   "source": [
    "import pickle"
   ]
  },
  {
   "cell_type": "code",
   "execution_count": null,
   "id": "118e9286",
   "metadata": {},
   "outputs": [],
   "source": []
  },
  {
   "cell_type": "code",
   "execution_count": 68,
   "id": "b4eed46e",
   "metadata": {},
   "outputs": [
    {
     "ename": "AttributeError",
     "evalue": "'numpy.ndarray' object has no attribute 'info'",
     "output_type": "error",
     "traceback": [
      "\u001b[1;31m---------------------------------------------------------------------------\u001b[0m",
      "\u001b[1;31mAttributeError\u001b[0m                            Traceback (most recent call last)",
      "Cell \u001b[1;32mIn[68], line 1\u001b[0m\n\u001b[1;32m----> 1\u001b[0m \u001b[43mX\u001b[49m\u001b[38;5;241;43m.\u001b[39;49m\u001b[43minfo\u001b[49m()\n",
      "\u001b[1;31mAttributeError\u001b[0m: 'numpy.ndarray' object has no attribute 'info'"
     ]
    }
   ],
   "source": [
    "X.info()"
   ]
  },
  {
   "cell_type": "code",
   "execution_count": null,
   "id": "820afbf4",
   "metadata": {},
   "outputs": [],
   "source": []
  }
 ],
 "metadata": {
  "colab": {
   "provenance": []
  },
  "kernelspec": {
   "display_name": "Python 3 (ipykernel)",
   "language": "python",
   "name": "python3"
  },
  "language_info": {
   "codemirror_mode": {
    "name": "ipython",
    "version": 3
   },
   "file_extension": ".py",
   "mimetype": "text/x-python",
   "name": "python",
   "nbconvert_exporter": "python",
   "pygments_lexer": "ipython3",
   "version": "3.10.10"
  }
 },
 "nbformat": 4,
 "nbformat_minor": 5
}
